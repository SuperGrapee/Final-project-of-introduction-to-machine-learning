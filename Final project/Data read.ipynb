{
 "cells": [
  {
   "cell_type": "markdown",
   "metadata": {},
   "source": [
    "## Project Description\n",
    "This project is aimed to use the dataset of the project named as \"A Wearable Exam Stress Dataset for Predicting Cognitive Performance in Real-World Settings\" from Physionet to find out **how people's skin conductance fluctuates in reality when they undergo a stressful experience**.\n",
    "\n",
    "### Task\n",
    "1. **Data Preprocessing**: \n",
    "    - Load the dataset and preprocess the data.\n",
    "    - Extract the skin conductance data from the dataset.\n",
    "    - Visualize the skin conductance data.\n",
    "2. **Feature Engineering**:\n",
    "    - Extract features from the skin conductance data.\n",
    "    - Visualize the features.\n",
    "    - Analyze the features.\n",
    "    - Compare the features with the ground truth.\n",
    "3. **Modeling**:  \n",
    "    - Train a model to predict the ground truth from the features.\n",
    "    - Evaluate the model.\n",
    "    - Visualize the prediction results.\n",
    "4. **Evaluation**:\n",
    "    - Analyze the prediction results.\n",
    "    - Compare the results of each model.\n",
    "    - Compare the prediction results with the ground truth.\n",
    "5. **Conclusion**:\n",
    "    - Summarize the findings.\n",
    "    - Summarize the limitations.\n",
    "\n",
    "### Goal\n",
    "The goal of this project is to "
   ]
  },
  {
   "cell_type": "code",
   "execution_count": null,
   "metadata": {},
   "outputs": [],
   "source": []
  }
 ],
 "metadata": {
  "language_info": {
   "name": "python"
  }
 },
 "nbformat": 4,
 "nbformat_minor": 2
}
