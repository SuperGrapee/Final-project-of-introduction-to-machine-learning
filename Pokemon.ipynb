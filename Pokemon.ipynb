{
 "cells": [
  {
   "cell_type": "code",
   "execution_count": 4,
   "metadata": {},
   "outputs": [
    {
     "name": "stdout",
     "output_type": "stream",
     "text": [
      "Downloading from https://www.kaggle.com/api/v1/datasets/download/pauloarayasantiago/pokmon-stats-across-generations-and-typings?dataset_version_number=1...\n"
     ]
    },
    {
     "name": "stderr",
     "output_type": "stream",
     "text": [
      "100%|██████████| 103k/103k [00:00<00:00, 485kB/s]"
     ]
    },
    {
     "name": "stdout",
     "output_type": "stream",
     "text": [
      "Extracting files...\n",
      "Path to dataset files: /Users/tongluyangyu/.cache/kagglehub/datasets/pauloarayasantiago/pokmon-stats-across-generations-and-typings/versions/1\n"
     ]
    },
    {
     "name": "stderr",
     "output_type": "stream",
     "text": [
      "\n"
     ]
    }
   ],
   "source": [
    "# Download dataset from Kaggle using KaggleHub\n",
    "import kagglehub\n",
    "\n",
    "# Download latest version\n",
    "path = kagglehub.dataset_download(\"pauloarayasantiago/pokmon-stats-across-generations-and-typings\")\n",
    "\n",
    "print(\"Path to dataset files:\", path)"
   ]
  },
  {
   "cell_type": "code",
   "execution_count": 6,
   "metadata": {},
   "outputs": [
    {
     "name": "stdout",
     "output_type": "stream",
     "text": [
      "   pokemon_id        name primary_type secondary_type first_appreance  \\\n",
      "0           1   bulbasaur        grass         poison        red/blue   \n",
      "1           2     ivysaur        grass         poison        red/blue   \n",
      "2           3    venusaur        grass         poison        red/blue   \n",
      "3           4  charmander         fire            NaN        red/blue   \n",
      "4           5  charmeleon         fire            NaN        red/blue   \n",
      "\n",
      "  generation category  total_base_stats  hp  attack  defense  special_attack  \\\n",
      "0      gen 1  regular               318  45      49       49              65   \n",
      "1      gen 1  regular               405  60      62       63              80   \n",
      "2      gen 1  regular               525  80      82       83             100   \n",
      "3      gen 1  regular               309  39      52       43              60   \n",
      "4      gen 1  regular               405  58      64       58              80   \n",
      "\n",
      "   special_defense  speed  \n",
      "0               65     45  \n",
      "1               80     60  \n",
      "2              100     80  \n",
      "3               50     65  \n",
      "4               65     80  \n"
     ]
    }
   ],
   "source": [
    "# Read dataset\n",
    "import pandas as pd\n",
    "dataset = pd.read_csv(path + \"/pokemon_dataset.csv\")\n",
    "print(dataset.head())"
   ]
  },
  {
   "cell_type": "code",
   "execution_count": null,
   "metadata": {},
   "outputs": [],
   "source": []
  }
 ],
 "metadata": {
  "kernelspec": {
   "display_name": "pytorch",
   "language": "python",
   "name": "python3"
  },
  "language_info": {
   "codemirror_mode": {
    "name": "ipython",
    "version": 3
   },
   "file_extension": ".py",
   "mimetype": "text/x-python",
   "name": "python",
   "nbconvert_exporter": "python",
   "pygments_lexer": "ipython3",
   "version": "3.11.8"
  }
 },
 "nbformat": 4,
 "nbformat_minor": 2
}
